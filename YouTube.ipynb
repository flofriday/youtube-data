{
 "cells": [
  {
   "cell_type": "markdown",
   "metadata": {},
   "source": [
    "# YouTube Data Analyzing\n",
    "**Note:** This is not an official YouTube application, nor am I [@flofriday](https://github.com/flofriday), in any way associated with YouTube or Google.\n",
    "\n",
    "This tool is free software, under the MIT License. This means that you have the right to use, copy, modify, merge, publish, distribute, sublicense and/or sell copies of this Software.\\\n",
    "[GitHub](https://github.com/flofriday/youtube-data)"
   ]
  },
  {
   "cell_type": "code",
   "execution_count": null,
   "metadata": {},
   "outputs": [],
   "source": [
    "%matplotlib inline\n",
    "%config InlineBackend.figure_formats = ['svg']\n",
    "\n",
    "# Import libaries\n",
    "import ipywidgets as widgets\n",
    "from ipywidgets import interact, interactive, fixed, interact_manual\n",
    "import numpy as np\n",
    "import matplotlib as plt\n",
    "import pandas as pd\n",
    "from IPython.display import display, Markdown, Latex\n",
    "from pytz import timezone\n",
    "import pytz\n",
    "\n",
    "import json\n",
    "import os\n",
    "import youtube_data as ytd\n",
    "\n",
    "# Setup Matplotlib\n",
    "plt.rcParams['figure.dpi'] = 400\n",
    "\n",
    "# Specify the color\n",
    "COLOR = \"#f2AAAA\"\n",
    "ytd.COLOR = COLOR\n",
    "\n",
    "# Set the file paths\n",
    "watch_history = os.path.join(\"Takeout\", \"YouTube and YouTube Music\", \"history\", \"watch-history.json\")\n",
    "search_history = os.path.join(\"Takeout\", \"YouTube and YouTube Music\", \"history\", \"search-history.json\")\n",
    "\n",
    "# Create the timezone dropdown\n",
    "timezone_dropdown = widgets.Dropdown(\n",
    "    options=pytz.all_timezones,\n",
    "    value='UTC',\n",
    "    description='Timezone:',\n",
    "    disabled=False,\n",
    ")\n",
    "\n",
    "search_df = None\n",
    "watch_df = None\n",
    "\n",
    "@interact(timezone=timezone_dropdown)\n",
    "def select_timezone(timezone: str):\n",
    "    global search_df\n",
    "    global watch_df\n",
    "    watch_df = ytd.load_watch_history(watch_history, timezone)\n",
    "    search_df = ytd.load_search_history(search_history, timezone)\n",
    "    \n"
   ]
  },
  {
   "cell_type": "markdown",
   "metadata": {},
   "source": [
    "## Absolut numbers"
   ]
  },
  {
   "cell_type": "code",
   "execution_count": null,
   "metadata": {},
   "outputs": [],
   "source": [
    "def absolut_numbers(watch, search):\n",
    "    markdown = f\"Videos watched since {watch['time'].min().strftime('%b %d %Y')}: **{len(watch)}**<br>\"  \\\n",
    "     f\"Searches since {search['time'].min().strftime('%b %d %Y')}: **{len(search)}**<br>\"  \\\n",
    "     f\"Average videos per day: **{len(watch)/((watch['time'].max()-watch['time'].min()).days):.2f}**<br>\"  \\\n",
    "     f\"Average searches per day: **{len(search)/((search['time'].max()-search['time'].min()).days):.2f}**\"\n",
    "    display(Markdown(markdown))\n",
    "    \n",
    "absolut_numbers(watch_df, search_df)"
   ]
  },
  {
   "cell_type": "markdown",
   "metadata": {},
   "source": [
    "## Creators you watch"
   ]
  },
  {
   "cell_type": "code",
   "execution_count": null,
   "metadata": {},
   "outputs": [],
   "source": [
    "interact(ytd.creator_plot, watch=fixed(watch_df), number=widgets.IntSlider(min = 1, max=50, value=24, description='Limit'))\n",
    "pass"
   ]
  },
  {
   "cell_type": "markdown",
   "metadata": {},
   "source": [
    "## When you watch YouTube\n",
    "### Overall"
   ]
  },
  {
   "cell_type": "code",
   "execution_count": null,
   "metadata": {},
   "outputs": [],
   "source": [
    "ytd.watch_timeline_plot(watch_df)\n",
    "pass"
   ]
  },
  {
   "cell_type": "code",
   "execution_count": null,
   "metadata": {},
   "outputs": [],
   "source": [
    "@interact(watch=fixed(watch_df), timespan = widgets.Dropdown(options=[('Per hour', 1), ('Per day', 2), ('Per month', 3)], value=1, description='Timespan:', ))\n",
    "def timespan_plot(watch, timespan):\n",
    "    if timespan == 1: \n",
    "        ytd.watch_hour_plot(watch_df)\n",
    "    elif timespan == 2:\n",
    "        ytd.watch_week_plot(watch_df)\n",
    "    elif timespan == 3:\n",
    "        ytd.watch_month_plot(watch_df)"
   ]
  },
  {
   "cell_type": "markdown",
   "metadata": {},
   "source": [
    "## Searchterms"
   ]
  },
  {
   "cell_type": "code",
   "execution_count": null,
   "metadata": {},
   "outputs": [],
   "source": [
    "interact(ytd.searchword_plot, search=fixed(search_df), number=widgets.IntSlider(min = 1, max=50, value=24, description='Limit'))\n",
    "pass"
   ]
  },
  {
   "cell_type": "code",
   "execution_count": null,
   "metadata": {},
   "outputs": [],
   "source": [
    "ytd.search_timeline_plot(search_df)\n",
    "pass"
   ]
  }
 ],
 "metadata": {
  "kernelspec": {
   "display_name": "Python 3",
   "language": "python",
   "name": "python3"
  },
  "language_info": {
   "codemirror_mode": {
    "name": "ipython",
    "version": 3
   },
   "file_extension": ".py",
   "mimetype": "text/x-python",
   "name": "python",
   "nbconvert_exporter": "python",
   "pygments_lexer": "ipython3",
   "version": "3.8.3"
  }
 },
 "nbformat": 4,
 "nbformat_minor": 4
}
