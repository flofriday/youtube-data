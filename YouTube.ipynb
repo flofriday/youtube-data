{
 "cells": [
  {
   "cell_type": "markdown",
   "metadata": {},
   "source": [
    "# YouTube Data Analysing\n",
    "**Note:** This is not an official YouTube application, nor am I [@flofriday](https://github.com/flofriday), in any way associated with YouTube or Google.\n",
    "\n",
    "This tool is free software, under the MIT License. \\\n",
    "[GitHub](https://github.com/flofriday/youtube-data)"
   ]
  },
  {
   "cell_type": "code",
   "execution_count": null,
   "metadata": {},
   "outputs": [],
   "source": [
    "# Import libaries\n",
    "import matplotlib.pyplot as plt\n",
    "import numpy as np\n",
    "import pandas as pd\n",
    "from IPython.display import display, Markdown, Latex\n",
    "\n",
    "import calendar\n",
    "import json\n",
    "import os\n",
    "%config HistoryManager.enabled = False\n",
    "%matplotlib inline\n",
    "%config InlineBackend.figure_formats = ['svg']\n",
    "\n",
    "# Set the file paths\n",
    "watch_history = os.path.join(\"Takeout\", \"YouTube and YouTube Music\", \"history\", \"watch-history.json\")\n",
    "search_history = os.path.join(\"Takeout\", \"YouTube and YouTube Music\", \"history\", \"search-history.json\")\n",
    "\n",
    "# Load the files\n",
    "watch_df = pd.read_json(watch_history)\n",
    "search_df = pd.read_json(search_history)\n",
    "\n",
    "# Clean up the watch data\n",
    "watch_df['channel'] = watch_df['subtitles'].map(lambda x: x[0]['name'] if type(x) is list else 'unknown')\n",
    "watch_df['time'] =  pd.to_datetime(watch_df['time'], infer_datetime_format=True)\n",
    "#watch_df.drop(columns=['subtitles', 'details', 'products', 'header'], inplace=True)\n",
    "\n",
    "# Cleanup the search data\n",
    "search_df['time'] =  pd.to_datetime(search_df['time'], infer_datetime_format=True)\n",
    "#search_df.drop(columns=['products', 'header', 'titleUrl'], inplace=True)\n",
    "\n",
    "# Specify the color\n",
    "COLOR=\"#f2AAAA\""
   ]
  },
  {
   "cell_type": "markdown",
   "metadata": {},
   "source": [
    "## Absolut numbers"
   ]
  },
  {
   "cell_type": "code",
   "execution_count": null,
   "metadata": {},
   "outputs": [],
   "source": [
    "display(Markdown(f\"You watched **{len(watch_df)}** YouTube videos since *{watch_df['time'].min().strftime('%b %d %Y')}* <br>and searched **{len(search_df)}** times, since *{search_df['time'].min().strftime('%b %d %Y')}*.\"))"
   ]
  },
  {
   "cell_type": "markdown",
   "metadata": {},
   "source": [
    "## Creators you watch"
   ]
  },
  {
   "cell_type": "code",
   "execution_count": null,
   "metadata": {},
   "outputs": [],
   "source": [
    "def creator_plot(watch_df):\n",
    "    df = watch_df['channel'].value_counts()\n",
    "    df.drop(['unknown'], inplace=True)\n",
    "    threshold = 30 # TODO: make this a slider\n",
    "    plot = df.head(threshold).plot(kind='bar', color=COLOR)\n",
    "    plot.set_ylabel(\"videos watched\")\n",
    "    plot.set_title(f'Top {threshold} creators')\n",
    "    display(Markdown(f'This plot only shows the top {threshold} creators. However, in total, you consumed content from **{len(df)}** creators.'))\n",
    "    \n",
    "creator_plot(watch_df)"
   ]
  },
  {
   "cell_type": "markdown",
   "metadata": {},
   "source": [
    "## When you watch YouTube\n",
    "### Overall"
   ]
  },
  {
   "cell_type": "code",
   "execution_count": null,
   "metadata": {},
   "outputs": [],
   "source": [
    "def timeline_plot(watch_df):\n",
    "    df = pd.DataFrame(watch_df['time'])\n",
    "    df.set_index('time', inplace=True)\n",
    "    df['amount'] = 1\n",
    "    df = df.resample('W').count()\n",
    "    plot = df.plot(color=COLOR)\n",
    "    plot.set_title('Timeline')\n",
    "    plot.set_ylim(ymin= -0.03 * df['amount'].max())\n",
    "    plot.set_ylabel(\"videos watched per week\")\n",
    "    plot.set_xlabel(\"\")\n",
    "    plot.get_legend().remove()\n",
    "\n",
    "timeline_plot(watch_df)"
   ]
  },
  {
   "cell_type": "code",
   "execution_count": null,
   "metadata": {},
   "outputs": [],
   "source": [
    "# Per Month\n",
    "def month_plot(watch_df):\n",
    "    #TODO: Rewrite this with value count\n",
    "    df = pd.DataFrame()\n",
    "    df['time'] = watch_df['time']\n",
    "    df['amount'] = 1\n",
    "    df = df.groupby(df['time'].dt.month).sum()\n",
    "    df.index = df.index.map(lambda x: calendar.month_abbr[x])\n",
    "    plot = df.plot(kind='bar', color=COLOR)\n",
    "    plot.set_title('Per month')\n",
    "    plot.set_ylabel(\"videos watched\")\n",
    "    plot.set_xlabel(\"\")\n",
    "    plot.get_legend().remove()\n",
    "\n",
    "month_plot(watch_df)"
   ]
  },
  {
   "cell_type": "code",
   "execution_count": null,
   "metadata": {},
   "outputs": [],
   "source": [
    "# Per weekday\n",
    "def week_plot(watch_df):\n",
    "    #TODO: Rewrite this with value count\n",
    "    df = pd.DataFrame()\n",
    "    df['time'] = watch_df['time']\n",
    "    df['amount'] = 1\n",
    "    df = df.groupby(df['time'].dt.dayofweek).sum()\n",
    "    df.index = df.index.map(lambda x: calendar.day_abbr[x])\n",
    "    plot = df.plot(kind='bar',color=COLOR)\n",
    "    plot.set_title('Per weekday')\n",
    "    plot.set_ylabel(\"videos watched\")\n",
    "    plot.set_xlabel(\"\")\n",
    "    plot.get_legend().remove()\n",
    "\n",
    "week_plot(watch_df)"
   ]
  },
  {
   "cell_type": "code",
   "execution_count": null,
   "metadata": {},
   "outputs": [],
   "source": [
    "# Per hour\n",
    "def hour_plot(watch_df):\n",
    "    #TODO: Rewrite this with value count\n",
    "    df = pd.DataFrame()\n",
    "    df['time'] = watch_df['time']\n",
    "    df['amount'] = 1\n",
    "    df = df.groupby(df['time'].dt.hour).sum()\n",
    "    df.index = df.index.map(lambda x: f\"{x:02}:00\")\n",
    "    plot = df.plot(kind='bar', color=COLOR)\n",
    "    plot.set_title('Per hour')\n",
    "    plot.set_ylabel(\"videos watched\")\n",
    "    plot.set_xlabel(\"\")\n",
    "    plot.get_legend().remove()\n",
    "\n",
    "hour_plot(watch_df)"
   ]
  },
  {
   "cell_type": "markdown",
   "metadata": {},
   "source": [
    "## Searchterms"
   ]
  },
  {
   "cell_type": "code",
   "execution_count": null,
   "metadata": {},
   "outputs": [],
   "source": [
    "def word_plot(search_df):\n",
    "    # Create a dataframe where the word column has in every row just a single word\n",
    "    df = pd.DataFrame()\n",
    "    df['title'] = search_df['title'].replace(regex=['Searched for'], value='')\n",
    "    df = pd.DataFrame(df.title.str.split(' ').tolist()).stack()\n",
    "    df = df.reset_index(0)\n",
    "    df.columns = ['tmp', 'word']\n",
    "    df = df.reset_index(0)\n",
    "    df = pd.DataFrame(df.word)\n",
    "    df['word'].replace('', np.nan, inplace=True)\n",
    "    df.dropna(subset=['word'], inplace=True)\n",
    "    \n",
    "    # Create the plot\n",
    "    threshold = 25\n",
    "    df = df['word'].value_counts()\n",
    "    plot = df.head(threshold).plot(kind='bar', color=COLOR)\n",
    "    plot.set_title(f'Top {threshold} searchwords')\n",
    "    \n",
    "word_plot(search_df)"
   ]
  },
  {
   "cell_type": "code",
   "execution_count": null,
   "metadata": {},
   "outputs": [],
   "source": []
  }
 ],
 "metadata": {
  "kernelspec": {
   "display_name": "Python 3",
   "language": "python",
   "name": "python3"
  },
  "language_info": {
   "codemirror_mode": {
    "name": "ipython",
    "version": 3
   },
   "file_extension": ".py",
   "mimetype": "text/x-python",
   "name": "python",
   "nbconvert_exporter": "python",
   "pygments_lexer": "ipython3",
   "version": "3.8.3"
  }
 },
 "nbformat": 4,
 "nbformat_minor": 4
}
