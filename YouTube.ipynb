{
 "cells": [
  {
   "cell_type": "markdown",
   "metadata": {},
   "source": [
    "# YouTube Data Analysing\n",
    "**Note:** This is not an official YouTube application, nor am I [@flofriday](https://github.com/flofriday), in any way associated with YouTube or Google.\n",
    "\n",
    "This tool is free software, under the MIT License. \\\n",
    "[GitHub](https://github.com/flofriday/youtube-data)"
   ]
  },
  {
   "cell_type": "code",
   "execution_count": null,
   "metadata": {},
   "outputs": [],
   "source": [
    "# Import libaries\n",
    "import ipywidgets as widgets\n",
    "from ipywidgets import interact, interactive, fixed, interact_manual\n",
    "import numpy as np\n",
    "import matplotlib as plt\n",
    "import pandas as pd\n",
    "from IPython.display import display, Markdown, Latex\n",
    "\n",
    "import calendar\n",
    "import json\n",
    "import os\n",
    "#%config HistoryManager.enabled = False\n",
    "%matplotlib inline\n",
    "%config InlineBackend.figure_formats = ['svg']\n",
    "\n",
    "# Setup Matplotlib\n",
    "plt.rcParams['figure.dpi'] = 400\n",
    "\n",
    "# Set the file paths\n",
    "watch_history = os.path.join(\"Takeout\", \"YouTube and YouTube Music\", \"history\", \"watch-history.json\")\n",
    "search_history = os.path.join(\"Takeout\", \"YouTube and YouTube Music\", \"history\", \"search-history.json\")\n",
    "\n",
    "# Load the files\n",
    "watch_df = pd.read_json(watch_history)\n",
    "search_df = pd.read_json(search_history)\n",
    "\n",
    "# Clean up the watch data\n",
    "watch_df['channel'] = watch_df['subtitles'].map(lambda x: x[0]['name'] if type(x) is list else 'unknown')\n",
    "watch_df['time'] =  pd.to_datetime(watch_df['time'], infer_datetime_format=True)\n",
    "#watch_df.drop(columns=['subtitles', 'details', 'products', 'header'], inplace=True)\n",
    "\n",
    "# Cleanup the search data\n",
    "search_df['time'] =  pd.to_datetime(search_df['time'], infer_datetime_format=True)\n",
    "#search_df.drop(columns=['products', 'header', 'titleUrl'], inplace=True)\n",
    "\n",
    "# Specify the color\n",
    "COLOR=\"#f2AAAA\""
   ]
  },
  {
   "cell_type": "markdown",
   "metadata": {},
   "source": [
    "## Absolut numbers"
   ]
  },
  {
   "cell_type": "code",
   "execution_count": null,
   "metadata": {},
   "outputs": [],
   "source": [
    "def absolut_numbers(watch, search):\n",
    "    markdown = f\"Videos watched since {watch['time'].min().strftime('%b %d %Y')}: **{len(watch)}**<br>\"  \\\n",
    "     f\"Searches since {search['time'].min().strftime('%b %d %Y')}: **{len(search)}**<br>\"  \\\n",
    "     f\"Average videos per day: **{len(watch)/((watch['time'].max()-watch['time'].min()).days):.2f}**<br>\"  \\\n",
    "     f\"Average searches per day: **{len(search)/((search['time'].max()-search['time'].min()).days):.2f}**\"\n",
    "    display(Markdown(markdown))\n",
    "    \n",
    "absolut_numbers(watch_df, search_df)"
   ]
  },
  {
   "cell_type": "markdown",
   "metadata": {},
   "source": [
    "## Creators you watch"
   ]
  },
  {
   "cell_type": "code",
   "execution_count": null,
   "metadata": {},
   "outputs": [],
   "source": [
    "@interact(watch_df=fixed(watch_df), number=widgets.IntSlider(min = 1, max=50, value=24, description='Limit'))\n",
    "def creator_plot(watch_df, number):\n",
    "    df = watch_df['channel'].value_counts()\n",
    "    df.drop(['unknown'], inplace=True)\n",
    "    df = df.head(number).sort_values()\n",
    "    plot = df.plot(kind='barh', color=COLOR, figsize=[6.4, number*0.28])\n",
    "    plot.set_xlabel(\"videos watched\")\n",
    "    plot.set_title(f'Top {number} creators')\n",
    "    "
   ]
  },
  {
   "cell_type": "markdown",
   "metadata": {},
   "source": [
    "## When you watch YouTube\n",
    "### Overall"
   ]
  },
  {
   "cell_type": "code",
   "execution_count": null,
   "metadata": {},
   "outputs": [],
   "source": [
    "def timeline_plot(watch_df):\n",
    "    df = pd.DataFrame(watch_df['time'])\n",
    "    df.set_index('time', inplace=True)\n",
    "    df['amount'] = 1\n",
    "    df = df.resample('W').count()\n",
    "    plot = df.plot(color=COLOR)\n",
    "    plot.set_title('Timeline')\n",
    "    plot.set_ylim(ymin= -0.03 * df['amount'].max())\n",
    "    plot.set_ylabel(\"videos watched per week\")\n",
    "    plot.set_xlabel(\"\")\n",
    "    plot.get_legend().remove()\n",
    "\n",
    "timeline_plot(watch_df)"
   ]
  },
  {
   "cell_type": "code",
   "execution_count": null,
   "metadata": {},
   "outputs": [],
   "source": [
    "# Per Month\n",
    "def month_plot(watch_df):\n",
    "    #TODO: Rewrite this with value count\n",
    "    df = pd.DataFrame()\n",
    "    df['time'] = watch_df['time']\n",
    "    df['amount'] = 1\n",
    "    df = df.groupby(df['time'].dt.month).sum()\n",
    "    df.index = df.index.map(lambda x: calendar.month_abbr[x])\n",
    "    plot = df.plot(kind='bar', color=COLOR)\n",
    "    plot.set_title('Videos watched per month')\n",
    "    plot.set_ylabel(\"\")\n",
    "    plot.set_xlabel(\"\")\n",
    "    plot.get_legend().remove()\n",
    "\n",
    "# Per weekday\n",
    "def week_plot(watch_df):\n",
    "    #TODO: Rewrite this with value count\n",
    "    df = pd.DataFrame()\n",
    "    df['time'] = watch_df['time']\n",
    "    df['amount'] = 1\n",
    "    df = df.groupby(df['time'].dt.dayofweek).sum()\n",
    "    df.index = df.index.map(lambda x: calendar.day_abbr[x])\n",
    "    plot = df.plot(kind='bar',color=COLOR)\n",
    "    plot.set_title('Videos watched per weekday')\n",
    "    plot.set_ylabel(\"\")\n",
    "    plot.set_xlabel(\"\")\n",
    "    plot.get_legend().remove()\n",
    "    \n",
    "# Per hour\n",
    "def hour_plot(watch_df):\n",
    "    #TODO: Rewrite this with value count\n",
    "    df = pd.DataFrame()\n",
    "    df['time'] = watch_df['time']\n",
    "    df['amount'] = 1\n",
    "    df = df.groupby(df['time'].dt.hour).sum()\n",
    "    df.index = df.index.map(lambda x: f\"{x:02}:00\")\n",
    "    plot = df.plot(kind='bar', color=COLOR)\n",
    "    plot.set_title('Videos watched per hour')\n",
    "    plot.set_ylabel(\"\")\n",
    "    plot.set_xlabel(\"\")\n",
    "    plot.get_legend().remove()\n",
    "    \n",
    "@interact(watch_df=fixed(watch_df), timespan = widgets.Dropdown(options=[('Per hour', 1), ('Per day', 2), ('Per month', 3)], value=1, description='Timespan:', ))\n",
    "def timespan_plot(watch_df, timespan):\n",
    "    if timespan == 1: \n",
    "        hour_plot(watch_df)\n",
    "    elif timespan == 2:\n",
    "        week_plot(watch_df)\n",
    "    elif timespan == 3:\n",
    "        month_plot(watch_df)"
   ]
  },
  {
   "cell_type": "markdown",
   "metadata": {},
   "source": [
    "## Searchterms"
   ]
  },
  {
   "cell_type": "code",
   "execution_count": null,
   "metadata": {},
   "outputs": [],
   "source": [
    "@interact(search_df=fixed(search_df), number=widgets.IntSlider(min = 1, max=50, value=24, description='Limit'))\n",
    "def word_plot(search_df, number):\n",
    "    # Create a dataframe where the word column has in every row just a single word\n",
    "    df = pd.DataFrame()\n",
    "    df['title'] = search_df['title'].replace(regex=['Searched for'], value='')\n",
    "    df = pd.DataFrame(df.title.str.split(' ').tolist()).stack()\n",
    "    df = df.reset_index(0)\n",
    "    df.columns = ['tmp', 'word']\n",
    "    df = df.reset_index(0)\n",
    "    df = pd.DataFrame(df.word)\n",
    "    df['word'].replace('', np.nan, inplace=True)\n",
    "    df.dropna(subset=['word'], inplace=True)\n",
    "    \n",
    "    # Create the plot\n",
    "    df = df['word'].value_counts()\n",
    "    df = df.head(number).sort_values()\n",
    "    plot = df.plot(kind='barh', figsize=[6.4, number*0.28], color=COLOR)\n",
    "    plot.set_title(f'Top {number} searchwords')"
   ]
  },
  {
   "cell_type": "code",
   "execution_count": null,
   "metadata": {},
   "outputs": [],
   "source": []
  }
 ],
 "metadata": {
  "kernelspec": {
   "display_name": "Python 3",
   "language": "python",
   "name": "python3"
  },
  "language_info": {
   "codemirror_mode": {
    "name": "ipython",
    "version": 3
   },
   "file_extension": ".py",
   "mimetype": "text/x-python",
   "name": "python",
   "nbconvert_exporter": "python",
   "pygments_lexer": "ipython3",
   "version": "3.8.3"
  }
 },
 "nbformat": 4,
 "nbformat_minor": 4
}
